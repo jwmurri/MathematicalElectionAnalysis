{
 "cells": [
  {
   "cell_type": "code",
   "execution_count": 1,
   "metadata": {},
   "outputs": [],
   "source": [
    "import numpy as np\n",
    "from matplotlib import pyplot as plt\n",
    "import pandas as pd\n",
    "from scipy import optimize as opt\n",
    "import pickle"
   ]
  },
  {
   "cell_type": "code",
   "execution_count": 2,
   "metadata": {},
   "outputs": [],
   "source": [
    "i = 1591397657"
   ]
  },
  {
   "cell_type": "code",
   "execution_count": 3,
   "metadata": {},
   "outputs": [],
   "source": [
    "d = pd.read_hdf(str(i)+'.h5', 'data')\n",
    "s = pd.read_hdf(str(i)+'.h5', 'stored_assignments')"
   ]
  },
  {
   "cell_type": "code",
   "execution_count": 4,
   "metadata": {},
   "outputs": [],
   "source": [
    "def calc_percentile(val, data):\n",
    "    return opt.bisect(lambda x: np.percentile(data, x) - val, 0, 100)"
   ]
  },
  {
   "cell_type": "code",
   "execution_count": 27,
   "metadata": {},
   "outputs": [],
   "source": [
    "def make_plots(idnum, kind, subdirectory='Data/', figsize=(8,6), dpi=400):\n",
    "    \"\"\"\n",
    "    Given the id number of a chain run, creates relevant plots (Utah data format only).\n",
    "    \"\"\"\n",
    "    # Extract the data\n",
    "    data = pd.read_hdf(str(idnum)+'.h5', 'data')\n",
    "    n = len(data)\n",
    "    m = 4\n",
    "    k = 1\n",
    "    \n",
    "    # Set parameters\n",
    "    common_file_ending = '-'+str(len(data))+'-'+kind+'-'+str(idnum)+'.pdf'\n",
    "\n",
    "    boxplots = {'Box Plot Sen 2010':   {'title': 'Distribution of Vote Shares in {}-Plan Ensemble'.format(n),\n",
    "                                        'ylabel': 'Republican Vote Share (Senate 2010)',\n",
    "                                        'xlabel': 'Sorted US Congressional Districts',\n",
    "                                        'savetitle': subdirectory+'BoxPlotSen2010'+common_file_ending},\n",
    "             \n",
    "            'Box Plot Gov 2010':       {'title': 'Distribution of Vote Shares in {}-Plan Ensemble'.format(n),\n",
    "                                        'ylabel': 'Republican Vote Share (Gubernatorial 2010)',\n",
    "                                        'xlabel': 'Sorted US Congressional Districts',\n",
    "                                        'savetitle': subdirectory+'BoxPlotGov2010'+common_file_ending},\n",
    "             \n",
    "            'Violin Plot Sen 2010':    {'title': 'Distribution of Vote Shares in {}-Plan Ensemble'.format(n),\n",
    "                                        'ylabel': 'Republican Vote Share (Senate 2010)',\n",
    "                                        'xlabel': 'Sorted US Congressional Districts',\n",
    "                                        'savetitle': subdirectory+'ViolinPlotSen2010'+common_file_ending},\n",
    "             \n",
    "            'Violin Plot Gov 2010':    {'title': 'Distribution of Vote Shares in {}-Plan Ensemble'.format(n),\n",
    "                                        'ylabel': 'Republican Vote Share (Gubernatorial 2010)',\n",
    "                                        'xlabel': 'Sorted US Congressional Districts',\n",
    "                                        'savetitle': subdirectory+'ViolinPlotGov2010'+common_file_ending}\n",
    "               }\n",
    "             \n",
    "    \n",
    "    metricplots = {'Avg Abs Partisan Dislocation - SEN': {'title': 'Avg Abs Partisan Dislocation in a {}-Plan Ensemble'.format(n),\n",
    "                                                  'xlabel': 'Avg Abs Partisan Dislocation (Senate 2010)',\n",
    "                                                  'ylabel': 'Number of Plans',\n",
    "                                                  'savetitle': subdirectory+'AvgAbsPDSen2010'+common_file_ending},\n",
    "                    'Avg Abs Partisan Dislocation - G': {'title': 'Avg Abs Partisan Dislocation in a {}-Plan Ensemble'.format(n),\n",
    "                                                  'xlabel': 'Avg Abs Partisan Dislocation (Gubernatorial 2010)',\n",
    "                                                  'ylabel': 'Number of Plans',\n",
    "                                                  'savetitle': subdirectory+'AvgAbsPDGov2010'+common_file_ending},\n",
    "                    'Mean Median - SEN': {'title': 'Mean-Median Score in a {}-Plan Ensemble'.format(n),\n",
    "                                                  'xlabel': 'Mean-Median Score (Senate 2010)',\n",
    "                                                  'ylabel': 'Number of Plans',\n",
    "                                                  'savetitle': subdirectory+'MeanMedianSen2010'+common_file_ending},\n",
    "                    'Mean Median - G': {'title': 'Mean-Median Score in a {}-Plan Ensemble'.format(n),\n",
    "                                                  'xlabel': 'Mean-Median Score (Gubernatorial 2010)',\n",
    "                                                  'ylabel': 'Number of Plans',\n",
    "                                                  'savetitle': subdirectory+'MeanMedianGov2010'+common_file_ending},\n",
    "                    'Efficiency Gap - SEN': {'title': 'Efficiency Gap in a {}-Plan Ensemble'.format(n),\n",
    "                                                  'xlabel': 'Efficiency Gap (Senate 2010)',\n",
    "                                                  'ylabel': 'Number of Plans',\n",
    "                                                  'savetitle': subdirectory+'EfficiencyGapSen2010'+common_file_ending},\n",
    "                    'Efficiency Gap - G': {'title': 'Efficiency Gap in a {}-Plan Ensemble'.format(n),\n",
    "                                                  'xlabel': 'Efficiency Gap (Gubernatorial 2010)',\n",
    "                                                  'ylabel': 'Number of Plans',\n",
    "                                                  'savetitle': subdirectory+'EfficiencyGapGov2010'+common_file_ending},\n",
    "                    'Partisan Bias - SEN': {'title': 'Partisan Bias Score in a {}-Plan Ensemble'.format(n),\n",
    "                                                  'xlabel': 'Partisan Bias Score (Senate 2010)',\n",
    "                                                  'ylabel': 'Number of Plans',\n",
    "                                                  'savetitle': subdirectory+'PartisanBiasSen2010'+common_file_ending},\n",
    "                    'Partisan Bias - G': {'title': 'Partisan Bias Score in a {}-Plan Ensemble'.format(n),\n",
    "                                                  'xlabel': 'Partisan Bias Score (Gubernatorial 2010)',\n",
    "                                                  'ylabel': 'Number of Plans',\n",
    "                                                  'savetitle': subdirectory+'PartisanBiasGov2010'+common_file_ending},\n",
    "                    'Partisan Gini - SEN': {'title': 'Partisan Gini Score in a {}-Plan Ensemble'.format(n),\n",
    "                                                  'xlabel': 'Partisan Gini Score (Senate 2010)',\n",
    "                                                  'ylabel': 'Number of Plans',\n",
    "                                                  'savetitle': subdirectory+'PartisanGiniSen2010'+common_file_ending},\n",
    "                    'Partisan Gini - G': {'title': 'Partisan Gini Score in a {}-Plan Ensemble'.format(n),\n",
    "                                                  'xlabel': 'Partisan Gini Score (Gubernatorial 2010)',\n",
    "                                                  'ylabel': 'Number of Plans',\n",
    "                                                  'savetitle': subdirectory+'PartisanGiniGov2010'+common_file_ending},\n",
    "            }\n",
    "    \n",
    "    \n",
    "    # Box plot: Senate 2010\n",
    "    key = 'Box Plot Sen 2010'\n",
    "    vote_share_sen10 = pd.DataFrame(list(data.iloc[:, 23:27].values), columns=np.arange(1, m+1))\n",
    "    fig, ax = plt.subplots(figsize=figsize, dpi=dpi)\n",
    "    ax.axhline(0.5, color=\"#cccccc\")\n",
    "    vote_share_sen10.boxplot(ax=ax, positions=range(1, m+1), sym='', zorder=1)\n",
    "    ax.scatter(vote_share_sen10.iloc[0].index, vote_share_sen10.iloc[0], color=\"r\", marker=\"o\", s=25/k, alpha=0.5, zorder=5, label='2012 plan')\n",
    "    ax.legend(loc='lower right')\n",
    "\n",
    "    ax.set_title(boxplots[key]['title'])\n",
    "    ax.set_xlabel(boxplots[key]['xlabel'])\n",
    "    ax.set_ylabel(boxplots[key]['ylabel'])\n",
    "    ax.set_ylim(0, 1)\n",
    "    ax.set_yticks([0, 0.25, 0.5, 0.75, 1])\n",
    "    ax.set_xticks([1, 2, 3, 4])\n",
    "    plt.savefig(boxplots[key]['savetitle'], dpi=dpi, bbox_inches='tight')\n",
    "    plt.clf()\n",
    "    \n",
    "    # Violin plot: Senate 2010\n",
    "    key = 'Violin Plot Sen 2010'\n",
    "    d = vote_share_sen10.T.copy()\n",
    "    fig, ax = plt.subplots(figsize=figsize, dpi=dpi)\n",
    "    ax.axhline(0.5, color=\"#cccccc\")\n",
    "    ax.violinplot(d)\n",
    "    \n",
    "    ax.hlines(y=d.iloc[:, 0], xmin = np.arange(m)+1-0.2, xmax=np.arange(m)+1+0.2, color='r', lw=2, label='2012 plan')\n",
    "    ax.legend(loc='lower right')\n",
    "    for i in range(m):\n",
    "        plt.text(i+1, d.iloc[i, 0]-0.04, str(np.round(calc_percentile(d.iloc[i, 0], d.iloc[i]),1))+'%', horizontalalignment='center')\n",
    "\n",
    "    ax.set_title(boxplots[key]['title'])\n",
    "    ax.set_xlabel(boxplots[key]['xlabel'])\n",
    "    ax.set_ylabel(boxplots[key]['ylabel'])\n",
    "    ax.set_ylim(0, 1)\n",
    "    ax.set_yticks([0, 0.25, 0.5, 0.75, 1])\n",
    "    ax.set_xticks([1, 2, 3, 4])\n",
    "    plt.savefig(boxplots[key]['savetitle'], dpi=dpi, bbox_inches='tight')\n",
    "    plt.clf()\n",
    "    \n",
    "    # Box plot: Governor 2010\n",
    "    key = 'Box Plot Gov 2010'\n",
    "    \n",
    "    vote_share_gov10 = pd.DataFrame(list(data.iloc[:, 27:31].values), columns=np.arange(1, m+1))\n",
    "    fig, ax = plt.subplots(figsize=figsize, dpi=dpi)\n",
    "    ax.axhline(0.5, color=\"#cccccc\")\n",
    "    vote_share_gov10.boxplot(ax=ax, positions=range(1, m+1), sym='', zorder=1)\n",
    "    ax.scatter(vote_share_gov10.iloc[0].index, vote_share_gov10.iloc[0], color=\"r\", marker=\"o\", s=25/k, alpha=0.5, zorder=5, label='2012 plan')\n",
    "    ax.legend(loc='lower right')\n",
    "\n",
    "    ax.set_title(boxplots[key]['title'])\n",
    "    ax.set_xlabel(boxplots[key]['xlabel'])\n",
    "    ax.set_ylabel(boxplots[key]['ylabel'])\n",
    "    ax.set_ylim(0, 1)\n",
    "    ax.set_yticks([0, 0.25, 0.5, 0.75, 1])\n",
    "    ax.set_xticks([1, 2, 3, 4])\n",
    "    plt.savefig(boxplots[key]['savetitle'], dpi=dpi, bbox_inches='tight')\n",
    "    plt.clf()\n",
    "    \n",
    "    # Violin plot: Gov 2010\n",
    "    key = 'Violin Plot Gov 2010'\n",
    "    d = vote_share_gov10.T.copy()\n",
    "    fig, ax = plt.subplots(figsize=figsize, dpi=dpi)\n",
    "    ax.axhline(0.5, color=\"#cccccc\")\n",
    "    ax.violinplot(d)\n",
    "    \n",
    "    ax.hlines(y=d.iloc[:, 0], xmin = np.arange(m)+1-0.2, xmax=np.arange(m)+1+0.2, color='r', lw=2, label='2012 plan')\n",
    "    ax.legend(loc='lower right')\n",
    "    for i in range(m):\n",
    "        plt.text(i+1, d.iloc[i, 0]-0.04, str(np.round(calc_percentile(d.iloc[i, 0], d.iloc[i]),1))+'%', horizontalalignment='center')\n",
    "\n",
    "    ax.set_title(boxplots[key]['title'])\n",
    "    ax.set_xlabel(boxplots[key]['xlabel'])\n",
    "    ax.set_ylabel(boxplots[key]['ylabel'])\n",
    "    ax.set_ylim(0, 1)\n",
    "    ax.set_yticks([0, 0.25, 0.5, 0.75, 1])\n",
    "    ax.set_xticks([1, 2, 3, 4])\n",
    "    plt.savefig(boxplots[key]['savetitle'], dpi=dpi, bbox_inches='tight')\n",
    "    plt.clf()\n",
    "    \n",
    "    # Construct plots for the various metrics\n",
    "    for key in metricplots.keys():\n",
    "        fig, ax = plt.subplots(figsize=figsize, dpi=dpi)\n",
    "        metric = pd.Series(data[key])\n",
    "        metric.hist(bins=50)\n",
    "        ax.axvline(x=metric[0], color='r', lw=2, label='2012 plan, '+str(np.round(calc_percentile(metric[0], metric),1))+'%')\n",
    "        ax.set_title(metricplots[key]['title'])\n",
    "        ax.set_xlabel(metricplots[key]['xlabel'])\n",
    "        ax.set_ylabel(metricplots[key]['ylabel'])\n",
    "        ax.legend(loc='upper right')\n",
    "        plt.savefig(metricplots[key]['savetitle'], dpi=dpi, bbox_inches='tight')\n",
    "        plt.clf()\n",
    "        "
   ]
  },
  {
   "cell_type": "code",
   "execution_count": 28,
   "metadata": {},
   "outputs": [
    {
     "data": {
      "text/plain": [
       "<Figure size 3200x2400 with 0 Axes>"
      ]
     },
     "metadata": {},
     "output_type": "display_data"
    },
    {
     "data": {
      "text/plain": [
       "<Figure size 3200x2400 with 0 Axes>"
      ]
     },
     "metadata": {},
     "output_type": "display_data"
    },
    {
     "data": {
      "text/plain": [
       "<Figure size 3200x2400 with 0 Axes>"
      ]
     },
     "metadata": {},
     "output_type": "display_data"
    },
    {
     "data": {
      "text/plain": [
       "<Figure size 3200x2400 with 0 Axes>"
      ]
     },
     "metadata": {},
     "output_type": "display_data"
    },
    {
     "data": {
      "text/plain": [
       "<Figure size 3200x2400 with 0 Axes>"
      ]
     },
     "metadata": {},
     "output_type": "display_data"
    },
    {
     "data": {
      "text/plain": [
       "<Figure size 3200x2400 with 0 Axes>"
      ]
     },
     "metadata": {},
     "output_type": "display_data"
    },
    {
     "data": {
      "text/plain": [
       "<Figure size 3200x2400 with 0 Axes>"
      ]
     },
     "metadata": {},
     "output_type": "display_data"
    },
    {
     "data": {
      "text/plain": [
       "<Figure size 3200x2400 with 0 Axes>"
      ]
     },
     "metadata": {},
     "output_type": "display_data"
    },
    {
     "data": {
      "text/plain": [
       "<Figure size 3200x2400 with 0 Axes>"
      ]
     },
     "metadata": {},
     "output_type": "display_data"
    },
    {
     "data": {
      "text/plain": [
       "<Figure size 3200x2400 with 0 Axes>"
      ]
     },
     "metadata": {},
     "output_type": "display_data"
    },
    {
     "data": {
      "text/plain": [
       "<Figure size 3200x2400 with 0 Axes>"
      ]
     },
     "metadata": {},
     "output_type": "display_data"
    },
    {
     "data": {
      "text/plain": [
       "<Figure size 3200x2400 with 0 Axes>"
      ]
     },
     "metadata": {},
     "output_type": "display_data"
    },
    {
     "data": {
      "text/plain": [
       "<Figure size 3200x2400 with 0 Axes>"
      ]
     },
     "metadata": {},
     "output_type": "display_data"
    },
    {
     "data": {
      "text/plain": [
       "<Figure size 3200x2400 with 0 Axes>"
      ]
     },
     "metadata": {},
     "output_type": "display_data"
    }
   ],
   "source": [
    "make_plots(i, 'flip-uniform')"
   ]
  },
  {
   "cell_type": "code",
   "execution_count": 30,
   "metadata": {},
   "outputs": [
    {
     "data": {
      "image/png": "[encoded data removed]",
      "text/plain": [
       "<Figure size 432x288 with 1 Axes>"
      ]
     },
     "metadata": {
      "needs_background": "light"
     },
     "output_type": "display_data"
    }
   ],
   "source": [
    "subdirectory = 'Data/'\n",
    "domain = np.linspace(0, 1, 100)\n",
    "plt.plot(domain, domain)\n",
    "plt.savefig(subdirectory+ 'test2.png', dpi=300, bbox_inches='tight')"
   ]
  },
  {
   "cell_type": "code",
   "execution_count": 15,
   "metadata": {},
   "outputs": [],
   "source": [
    "def f(start, a, b, c):\n",
    "    return a+b+c"
   ]
  },
  {
   "cell_type": "code",
   "execution_count": 14,
   "metadata": {},
   "outputs": [],
   "source": [
    "d = {'a':1, 'b':2}\n",
    "g = {'c':3}"
   ]
  },
  {
   "cell_type": "code",
   "execution_count": 17,
   "metadata": {},
   "outputs": [
    {
     "data": {
      "text/plain": [
       "6"
      ]
     },
     "execution_count": 17,
     "metadata": {},
     "output_type": "execute_result"
    }
   ],
   "source": [
    "f(start=1, **d, **g)"
   ]
  },
  {
   "cell_type": "code",
   "execution_count": 5,
   "metadata": {},
   "outputs": [
    {
     "ename": "SyntaxError",
     "evalue": "can't use starred expression here (<ipython-input-5-7b1d5260de7b>, line 4)",
     "output_type": "error",
     "traceback": [
      "\u001b[1;36m  File \u001b[1;32m\"<ipython-input-5-7b1d5260de7b>\"\u001b[1;36m, line \u001b[1;32m4\u001b[0m\n\u001b[1;31mSyntaxError\u001b[0m\u001b[1;31m:\u001b[0m can't use starred expression here\n"
     ]
    }
   ],
   "source": [
    "*d"
   ]
  },
  {
   "cell_type": "code",
   "execution_count": 19,
   "metadata": {},
   "outputs": [
    {
     "data": {
      "text/plain": [
       "0"
      ]
     },
     "execution_count": 19,
     "metadata": {},
     "output_type": "execute_result"
    }
   ],
   "source": [
    "5//14"
   ]
  },
  {
   "cell_type": "code",
   "execution_count": null,
   "metadata": {},
   "outputs": [],
   "source": []
  }
 ],
 "metadata": {
  "kernelspec": {
   "display_name": "Python 3",
   "language": "python",
   "name": "python3"
  },
  "language_info": {
   "codemirror_mode": {
    "name": "ipython",
    "version": 3
   },
   "file_extension": ".py",
   "mimetype": "text/x-python",
   "name": "python",
   "nbconvert_exporter": "python",
   "pygments_lexer": "ipython3",
   "version": "3.6.10"
  }
 },
 "nbformat": 4,
 "nbformat_minor": 4
}
