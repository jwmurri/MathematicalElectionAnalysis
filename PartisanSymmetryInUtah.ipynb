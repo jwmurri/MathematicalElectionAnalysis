{
 "cells": [
  {
   "cell_type": "code",
   "execution_count": 1,
   "metadata": {},
   "outputs": [],
   "source": [
    "from gerrychain import (GeographicPartition, Partition, Graph, proposals, updaters, constraints, accept, Election, grid)\n",
    "from gerrychain.metrics import mean_median, partisan_bias, polsby_popper, efficiency_gap, partisan_gini\n",
    "import pandas as pd\n",
    "import numpy as np\n",
    "from tqdm.auto import tqdm\n",
    "import pickle\n",
    "import json\n",
    "import time\n",
    "from functools import partial\n",
    "import networkx as nx\n",
    "\n",
    "\n",
    "from chain import MarkovChain as mc2\n",
    "from plotting import *\n",
    "from run_chains4 import *"
   ]
  },
  {
   "cell_type": "markdown",
   "metadata": {},
   "source": [
    "# Utilities for Analyzing Partisan Symmetry Measures"
   ]
  },
  {
   "cell_type": "code",
   "execution_count": 2,
   "metadata": {},
   "outputs": [
    {
     "data": {
      "application/vnd.jupyter.widget-view+json": {
       "model_id": "8cc6e54bb1224942812a999f9fb5b633",
       "version_major": 2,
       "version_minor": 0
      },
      "text/plain": [
       "HBox(children=(FloatProgress(value=0.0, max=10000.0), HTML(value='')))"
      ]
     },
     "metadata": {},
     "output_type": "display_data"
    },
    {
     "name": "stdout",
     "output_type": "stream",
     "text": [
      "\n"
     ]
    }
   ],
   "source": [
    "c = Chain('flip-mh', 10000)"
   ]
  },
  {
   "cell_type": "code",
   "execution_count": 6,
   "metadata": {},
   "outputs": [],
   "source": [
    "def generate_seats_votes(v, save=False, savetitle=None):\n",
    "    \"\"\"\n",
    "    Given vote shares v, generate the seats-votes curve.\n",
    "    \n",
    "    Parameters:\n",
    "        v (ndarray): R vote shares in districts\n",
    "    \"\"\"\n",
    "    # The average vote share\n",
    "    vbar = np.mean(v)\n",
    "    \n",
    "    # Use the assumption of uniform partisan swing\n",
    "    s = np.vectorize(lambda k: np.count_nonzero(v-vbar+k > 1/2))\n",
    "    \n",
    "    domain = np.linspace(0, 1, 400)\n",
    "    \n",
    "    plt.plot(domain, s(domain), label=\"Seats-Votes Curve\")\n",
    "    plt.scatter(vbar, s(vbar), label=\"Actual\")\n",
    "    plt.scatter(1/2, 1/2*len(v), label=\"Center Point\")\n",
    "    plt.plot((0, 1), (0, len(v)), label=\"Perfect Proportionality\")\n",
    "    plt.title(\"Seats-Votes Curve\")\n",
    "    plt.xlabel(r'$k$, Uniform Partisan Swing')\n",
    "    plt.ylabel(r'$S$, R Seats Won')\n",
    "    plt.legend(loc=\"upper left\")\n",
    "    \n",
    "    if save: plt.savefig(savetitle+'.png')\n",
    "    plt.show()"
   ]
  },
  {
   "cell_type": "code",
   "execution_count": 4,
   "metadata": {},
   "outputs": [],
   "source": [
    "def partisan_bias(v):\n",
    "    \"\"\"\n",
    "    Given vote shares v, computes the partisan bias score (where positive indicates a R advantage).\n",
    "    \n",
    "    Parameters:\n",
    "        v (ndarray): R vote shares in districts\n",
    "    \"\"\"\n",
    "    vbar = np.mean(v)\n",
    "    s = lambda k: np.count_nonzero(v-vbar+k > 1/2)/len(v)\n",
    "    return s(1/2) - 1/2\n",
    "\n",
    "def mean_median(v):\n",
    "    \"\"\"\n",
    "    Given vote shares v, computes the mean-median score (where positive indicates a R advantage).\n",
    "    \n",
    "    Parameters:\n",
    "        v (ndarray): R vote shares in districts\n",
    "    \"\"\"\n",
    "    return np.median(v) - np.mean(v)"
   ]
  },
  {
   "cell_type": "code",
   "execution_count": 3,
   "metadata": {},
   "outputs": [],
   "source": [
    "v_sen0 = c.data.iloc[0, 29:33].copy()\n",
    "v_gov0 = c.data.iloc[0, 33:37].copy()\n",
    "v_comb0 = c.data.iloc[0, 37:41].copy()"
   ]
  },
  {
   "cell_type": "code",
   "execution_count": 7,
   "metadata": {},
   "outputs": [
    {
     "data": {
      "image/png": "[encoded data removed]",
      "text/plain": [
       "<Figure size 432x288 with 1 Axes>"
      ]
     },
     "metadata": {
      "needs_background": "light"
     },
     "output_type": "display_data"
    }
   ],
   "source": [
    "generate_seats_votes(v_sen0)"
   ]
  },
  {
   "cell_type": "markdown",
   "metadata": {},
   "source": [
    "The way my code is written, signed scores in gerrychain indicate a Dem advantage when they are positive, and a Rep advantage when they are not."
   ]
  },
  {
   "cell_type": "code",
   "execution_count": 10,
   "metadata": {},
   "outputs": [
    {
     "data": {
      "text/plain": [
       "Index(['County Splits', 'Mattingly Splits Score', 'Cut Edges',\n",
       "       'Avg Abs Partisan Dislocation - SEN',\n",
       "       'Avg Abs Partisan Dislocation - G',\n",
       "       'Avg Abs Partisan Dislocation - COMB', 'Mean Median - SEN',\n",
       "       'Mean Median - G', 'Mean Median - COMB', 'Efficiency Gap - SEN',\n",
       "       'Efficiency Gap - G', 'Efficiency Gap - COMB', 'Partisan Bias - SEN',\n",
       "       'Partisan Bias - G', 'Partisan Bias - COMB', 'Partisan Gini - SEN',\n",
       "       'Partisan Gini - G', 'Partisan Gini - COMB', 'Seats Won - SEN',\n",
       "       'Seats Won - G', 'Seats Won - COMB', 'PP1', 'PP2', 'PP3', 'PP4', 'POP1',\n",
       "       'POP2', 'POP3', 'POP4', 'Sorted SenRep Vote Share 1',\n",
       "       'Sorted SenRep Vote Share 2', 'Sorted SenRep Vote Share 3',\n",
       "       'Sorted SenRep Vote Share 4', 'Sorted GRep Vote Share 1',\n",
       "       'Sorted GRep Vote Share 2', 'Sorted GRep Vote Share 3',\n",
       "       'Sorted GRep Vote Share 4', 'Sorted CombRep Vote Share 1',\n",
       "       'Sorted CombRep Vote Share 2', 'Sorted CombRep Vote Share 3',\n",
       "       'Sorted CombRep Vote Share 4'],\n",
       "      dtype='object')"
      ]
     },
     "execution_count": 10,
     "metadata": {},
     "output_type": "execute_result"
    }
   ],
   "source": [
    "c.data.columns"
   ]
  },
  {
   "cell_type": "code",
   "execution_count": 56,
   "metadata": {},
   "outputs": [],
   "source": [
    "least_rep = {'Least Rep - SEN': np.min(c.data.iloc[:, 29:33], axis=1), \n",
    "             'Least Rep - G': np.min(c.data.iloc[:, 33:37], axis=1),\n",
    "             'Least Rep - COMB': np.min(c.data.iloc[:, 37:41], axis=1)}"
   ]
  },
  {
   "cell_type": "code",
   "execution_count": 11,
   "metadata": {},
   "outputs": [],
   "source": [
    "plt.scatter?"
   ]
  },
  {
   "cell_type": "code",
   "execution_count": 13,
   "metadata": {},
   "outputs": [
    {
     "data": {
      "text/plain": [
       "Text(0, 0.5, 'Sorted CombRep Vote Share 1')"
      ]
     },
     "execution_count": 13,
     "metadata": {},
     "output_type": "execute_result"
    },
    {
     "data": {
      "image/png": "[encoded data removed]",
      "text/plain": [
       "<Figure size 432x288 with 1 Axes>"
      ]
     },
     "metadata": {
      "needs_background": "light"
     },
     "output_type": "display_data"
    }
   ],
   "source": [
    "key1, key2 = 'Mean Median - COMB', 'Sorted CombRep Vote Share 1'\n",
    "plt.scatter(c.data[key1], c.data[key2], s=1, alpha=0.3)\n",
    "plt.xlabel(key1)\n",
    "plt.ylabel(key2)"
   ]
  },
  {
   "cell_type": "markdown",
   "metadata": {},
   "source": [
    "# Running chains from selected started points"
   ]
  },
  {
   "cell_type": "code",
   "execution_count": 17,
   "metadata": {},
   "outputs": [],
   "source": [
    "import time"
   ]
  },
  {
   "cell_type": "code",
   "execution_count": 6,
   "metadata": {},
   "outputs": [],
   "source": [
    "g = list()\n",
    "a = list()\n",
    "for i in range(100000, 1100000, 100000):\n",
    "    graph = Graph.from_json('AlternativePlans/graph_recom_'+str(i)+'.json')\n",
    "    g.append(graph)\n",
    "    assignment = dict()\n",
    "    for j in graph.nodes:\n",
    "        assignment[j] = graph.nodes[j]['US_Distric']\n",
    "    a.append(assignment)"
   ]
  },
  {
   "cell_type": "code",
   "execution_count": 18,
   "metadata": {},
   "outputs": [
    {
     "data": {
      "application/vnd.jupyter.widget-view+json": {
       "model_id": "b5e27b252d4f43fe8fbb1c6435ec3024",
       "version_major": 2,
       "version_minor": 0
      },
      "text/plain": [
       "HBox(children=(FloatProgress(value=0.0, max=1000.0), HTML(value='')))"
      ]
     },
     "metadata": {},
     "output_type": "display_data"
    },
    {
     "name": "stdout",
     "output_type": "stream",
     "text": [
      "\n"
     ]
    },
    {
     "data": {
      "application/vnd.jupyter.widget-view+json": {
       "model_id": "8626328aa70a40328928cc87a5a6558f",
       "version_major": 2,
       "version_minor": 0
      },
      "text/plain": [
       "HBox(children=(FloatProgress(value=0.0, max=1000.0), HTML(value='')))"
      ]
     },
     "metadata": {},
     "output_type": "display_data"
    },
    {
     "name": "stdout",
     "output_type": "stream",
     "text": [
      "\n"
     ]
    },
    {
     "data": {
      "application/vnd.jupyter.widget-view+json": {
       "model_id": "0b58f4d7fb8f46578cd7360e215e8b0a",
       "version_major": 2,
       "version_minor": 0
      },
      "text/plain": [
       "HBox(children=(FloatProgress(value=0.0, max=1000.0), HTML(value='')))"
      ]
     },
     "metadata": {},
     "output_type": "display_data"
    },
    {
     "name": "stdout",
     "output_type": "stream",
     "text": [
      "\n"
     ]
    },
    {
     "data": {
      "application/vnd.jupyter.widget-view+json": {
       "model_id": "78273fbdd326470995e8726e86e92056",
       "version_major": 2,
       "version_minor": 0
      },
      "text/plain": [
       "HBox(children=(FloatProgress(value=0.0, max=1000.0), HTML(value='')))"
      ]
     },
     "metadata": {},
     "output_type": "display_data"
    },
    {
     "name": "stdout",
     "output_type": "stream",
     "text": [
      "\n"
     ]
    },
    {
     "data": {
      "application/vnd.jupyter.widget-view+json": {
       "model_id": "80040cc338844c13b00495705c009edc",
       "version_major": 2,
       "version_minor": 0
      },
      "text/plain": [
       "HBox(children=(FloatProgress(value=0.0, max=1000.0), HTML(value='')))"
      ]
     },
     "metadata": {},
     "output_type": "display_data"
    },
    {
     "name": "stdout",
     "output_type": "stream",
     "text": [
      "\n"
     ]
    },
    {
     "data": {
      "application/vnd.jupyter.widget-view+json": {
       "model_id": "c4b2f3fa59fc4248b9d0f42f88ec3562",
       "version_major": 2,
       "version_minor": 0
      },
      "text/plain": [
       "HBox(children=(FloatProgress(value=0.0, max=1000.0), HTML(value='')))"
      ]
     },
     "metadata": {},
     "output_type": "display_data"
    },
    {
     "name": "stdout",
     "output_type": "stream",
     "text": [
      "\n"
     ]
    },
    {
     "data": {
      "application/vnd.jupyter.widget-view+json": {
       "model_id": "d27cddac52a54a3eaf54fef95befab2d",
       "version_major": 2,
       "version_minor": 0
      },
      "text/plain": [
       "HBox(children=(FloatProgress(value=0.0, max=1000.0), HTML(value='')))"
      ]
     },
     "metadata": {},
     "output_type": "display_data"
    },
    {
     "name": "stdout",
     "output_type": "stream",
     "text": [
      "\n"
     ]
    },
    {
     "data": {
      "application/vnd.jupyter.widget-view+json": {
       "model_id": "8a3bc69231b04d93860465192c7732e4",
       "version_major": 2,
       "version_minor": 0
      },
      "text/plain": [
       "HBox(children=(FloatProgress(value=0.0, max=1000.0), HTML(value='')))"
      ]
     },
     "metadata": {},
     "output_type": "display_data"
    },
    {
     "name": "stdout",
     "output_type": "stream",
     "text": [
      "\n"
     ]
    },
    {
     "data": {
      "application/vnd.jupyter.widget-view+json": {
       "model_id": "21dc8789b0924451bb162e856532aea6",
       "version_major": 2,
       "version_minor": 0
      },
      "text/plain": [
       "HBox(children=(FloatProgress(value=0.0, max=1000.0), HTML(value='')))"
      ]
     },
     "metadata": {},
     "output_type": "display_data"
    },
    {
     "name": "stdout",
     "output_type": "stream",
     "text": [
      "\n"
     ]
    },
    {
     "data": {
      "application/vnd.jupyter.widget-view+json": {
       "model_id": "4d0debc720194b4bab28d09e2f06d449",
       "version_major": 2,
       "version_minor": 0
      },
      "text/plain": [
       "HBox(children=(FloatProgress(value=0.0, max=1000.0), HTML(value='')))"
      ]
     },
     "metadata": {},
     "output_type": "display_data"
    },
    {
     "name": "stdout",
     "output_type": "stream",
     "text": [
      "\n"
     ]
    }
   ],
   "source": [
    "c = dict()\n",
    "for assignment in a:\n",
    "    i = int(np.round(time.time(), 0))\n",
    "    c[i] = Chain('flip-mh', 1000, starting_assignment=assignment, storage_ratio=100)"
   ]
  },
  {
   "cell_type": "code",
   "execution_count": 19,
   "metadata": {},
   "outputs": [
    {
     "data": {
      "text/plain": [
       "dict_keys([1595015894, 1595015899, 1595015906, 1595015914, 1595015921, 1595015931, 1595015940, 1595015948, 1595015957, 1595015964])"
      ]
     },
     "execution_count": 19,
     "metadata": {},
     "output_type": "execute_result"
    }
   ],
   "source": [
    "c.keys()"
   ]
  },
  {
   "cell_type": "code",
   "execution_count": null,
   "metadata": {},
   "outputs": [],
   "source": []
  }
 ],
 "metadata": {
  "kernelspec": {
   "display_name": "Python 3",
   "language": "python",
   "name": "python3"
  },
  "language_info": {
   "codemirror_mode": {
    "name": "ipython",
    "version": 3
   },
   "file_extension": ".py",
   "mimetype": "text/x-python",
   "name": "python",
   "nbconvert_exporter": "python",
   "pygments_lexer": "ipython3",
   "version": "3.6.10"
  }
 },
 "nbformat": 4,
 "nbformat_minor": 4
}
